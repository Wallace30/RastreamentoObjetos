{
 "cells": [
  {
   "cell_type": "code",
   "execution_count": 1,
   "metadata": {},
   "outputs": [
    {
     "ename": "ModuleNotFoundError",
     "evalue": "No module named 'cv2'",
     "output_type": "error",
     "traceback": [
      "\u001b[1;31m---------------------------------------------------------------------------\u001b[0m",
      "\u001b[1;31mModuleNotFoundError\u001b[0m                       Traceback (most recent call last)",
      "\u001b[1;32m~\\AppData\\Local\\Temp\\ipykernel_17840\\1351393911.py\u001b[0m in \u001b[0;36m<module>\u001b[1;34m\u001b[0m\n\u001b[1;32m----> 1\u001b[1;33m \u001b[1;32mimport\u001b[0m \u001b[0mcv2\u001b[0m\u001b[1;33m\u001b[0m\u001b[1;33m\u001b[0m\u001b[0m\n\u001b[0m\u001b[0;32m      2\u001b[0m \u001b[1;32mimport\u001b[0m \u001b[0msys\u001b[0m\u001b[1;33m\u001b[0m\u001b[1;33m\u001b[0m\u001b[0m\n\u001b[0;32m      3\u001b[0m \u001b[1;32mfrom\u001b[0m \u001b[0mrandom\u001b[0m \u001b[1;32mimport\u001b[0m \u001b[0mrandint\u001b[0m\u001b[1;33m\u001b[0m\u001b[1;33m\u001b[0m\u001b[0m\n\u001b[0;32m      4\u001b[0m \u001b[1;33m\u001b[0m\u001b[0m\n\u001b[0;32m      5\u001b[0m \u001b[0mtracker_types\u001b[0m \u001b[1;33m=\u001b[0m \u001b[1;33m[\u001b[0m\u001b[1;34m'BOOSTING'\u001b[0m\u001b[1;33m,\u001b[0m \u001b[1;34m'MIL'\u001b[0m\u001b[1;33m,\u001b[0m \u001b[1;34m'KCF'\u001b[0m\u001b[1;33m,\u001b[0m \u001b[1;34m'TLD'\u001b[0m\u001b[1;33m,\u001b[0m \u001b[1;34m'MEDIANFLOW'\u001b[0m\u001b[1;33m,\u001b[0m \u001b[1;34m'MOSSE'\u001b[0m\u001b[1;33m,\u001b[0m \u001b[1;34m'CSRT'\u001b[0m\u001b[1;33m]\u001b[0m\u001b[1;33m\u001b[0m\u001b[1;33m\u001b[0m\u001b[0m\n",
      "\u001b[1;31mModuleNotFoundError\u001b[0m: No module named 'cv2'"
     ]
    }
   ],
   "source": [
    "import cv2\n",
    "import sys\n",
    "from random import randint\n",
    "\n",
    "tracker_types = ['BOOSTING', 'MIL', 'KCF', 'TLD', 'MEDIANFLOW', 'MOSSE', 'CSRT']\n",
    "tracker_type = tracker_types[6]\n",
    "print(tracker_type)\n",
    "\n",
    "if tracker_type == 'BOOSTING':\n",
    "    tracker = cv2.TrackerBoosting_create()\n",
    "if tracker_type == 'MIL':\n",
    "    tracker = cv2.TrackerMIL_create()\n",
    "if tracker_type == 'KCF':\n",
    "    tracker = cv2.TrackerKCF_create()\n",
    "if tracker_type == 'TLD':\n",
    "    tracker = cv2.TrackerTLD_create()\n",
    "if tracker_type == 'MEDIANFLOW':\n",
    "    tracker = cv2.TrackerMedianFlow_create()\n",
    "if tracker_type == 'MOSSE':\n",
    "    tracker = cv2.TrackerMOSSE_create()\n",
    "if tracker_type == 'CSRT':\n",
    "    tracker = cv2.TrackerCSRT_create()\n",
    "\n",
    "#print(tracker)\n",
    "\n",
    "video = cv2.VideoCapture('videos/race.mp4')\n",
    "if not video.isOpened():\n",
    "    print('Não foi possível carregar o vídeo')\n",
    "    sys.exit()\n",
    "\n",
    "ok, frame = video.read()\n",
    "if not ok:\n",
    "    print('Não foi possível ler o arquivo de vídeo')\n",
    "    sys.exit()\n",
    "#print(ok)\n",
    "\n",
    "bbox = cv2.selectROI(frame, False)\n",
    "#print(bbox)\n",
    "\n",
    "ok = tracker.init(frame, bbox)\n",
    "#print(ok)\n",
    "\n",
    "colors = (randint(0, 255), randint(0, 255), randint(0, 255))\n",
    "#print(colors)\n",
    "\n",
    "while True:\n",
    "    ok, frame = video.read()\n",
    "    if not ok:\n",
    "        break\n",
    "\n",
    "    # https://docs.opencv.org/master/dc/d71/tutorial_py_optimization.html\n",
    "    timer = cv2.getTickCount()\n",
    "    ok, bbox = tracker.update(frame)\n",
    "    #print(ok, bbox)\n",
    "\n",
    "    fps = cv2.getTickFrequency() / (cv2.getTickCount() - timer)\n",
    "\n",
    "    if ok:\n",
    "        (x, y, w, h) = [int(v) for v in bbox]\n",
    "        cv2.rectangle(frame, (x, y), (x + w, y + h), colors, 2, 1)\n",
    "    else:\n",
    "        cv2.putText(frame, 'Falha no rastreamento', (100, 80),\n",
    "                    cv2.FONT_HERSHEY_SIMPLEX, .75, (0, 0, 255), 2)\n",
    "\n",
    "    cv2.putText(frame, tracker_type + ' Tracker', (100, 20),\n",
    "                cv2.FONT_HERSHEY_SIMPLEX, .75, (50, 170, 50), 2)\n",
    "\n",
    "    cv2.putText(frame, 'FPS: ' + str(int(fps)), (100, 50),\n",
    "                cv2.FONT_HERSHEY_SIMPLEX, .75, (50, 170, 50), 2)\n",
    "\n",
    "    cv2.imshow('Tracking', frame)\n",
    "    if cv2.waitKey(1) & 0XFF == 27:\n",
    "        break"
   ]
  }
 ],
 "metadata": {
  "kernelspec": {
   "display_name": "base",
   "language": "python",
   "name": "python3"
  },
  "language_info": {
   "codemirror_mode": {
    "name": "ipython",
    "version": 3
   },
   "file_extension": ".py",
   "mimetype": "text/x-python",
   "name": "python",
   "nbconvert_exporter": "python",
   "pygments_lexer": "ipython3",
   "version": "3.7.9"
  }
 },
 "nbformat": 4,
 "nbformat_minor": 2
}
